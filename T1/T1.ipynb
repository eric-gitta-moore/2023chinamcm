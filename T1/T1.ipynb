{
 "cells": [
  {
   "cell_type": "code",
   "execution_count": 12,
   "metadata": {
    "collapsed": true,
    "ExecuteTime": {
     "end_time": "2023-08-05T06:24:32.420018900Z",
     "start_time": "2023-08-05T06:24:32.346587900Z"
    }
   },
   "outputs": [],
   "source": [
    "import pandas as pd\n",
    "import numpy as np\n",
    "from sklearn.cross_decomposition import CCA\n"
   ]
  },
  {
   "cell_type": "code",
   "execution_count": 10,
   "outputs": [
    {
     "data": {
      "text/plain": "      编号  母亲年龄  婚姻状况  教育程度  妊娠时间（周数）  分娩方式  CBTS  EPDS  HADS  婴儿行为特征  婴儿性别  \\\n0      1    34     2     5      37.0     1     3    13     9       0     1   \n1      2    33     2     5      42.0     1     0     0     3       1     2   \n2      3    37     2     5      41.0     1     4     8     9       1     1   \n3      4    31     2     5      37.5     1     6    16    13       1     2   \n4      5    36     1     5      40.0     1     1     3     3       0     2   \n..   ...   ...   ...   ...       ...   ...   ...   ...   ...     ...   ...   \n384  386    27     2     5      42.0     1    12    20    14       0     1   \n385  387    31     2     3      39.0     1     4     7    12       0     1   \n386  388    31     2     5      41.6     1     0     3     1       1     1   \n387  389    27     2     3      40.0     1     1    10     5       1     1   \n388  390    32     2     5      37.0     1    10    10     6       0     1   \n\n     婴儿年龄（月）  整晚睡眠时间（时：分：秒）  睡醒次数  入睡方式  \n0          1           10.0     3     2  \n1          3           11.0     0     4  \n2          1           12.0     1     2  \n3          3           11.0     2     1  \n4          3           10.5     1     4  \n..       ...            ...   ...   ...  \n384        1            9.0     1     2  \n385        2           11.0     2     4  \n386        1           10.5     2     1  \n387        1            6.0     2     1  \n388        1            9.0     0     4  \n\n[389 rows x 15 columns]",
      "text/html": "<div>\n<style scoped>\n    .dataframe tbody tr th:only-of-type {\n        vertical-align: middle;\n    }\n\n    .dataframe tbody tr th {\n        vertical-align: top;\n    }\n\n    .dataframe thead th {\n        text-align: right;\n    }\n</style>\n<table border=\"1\" class=\"dataframe\">\n  <thead>\n    <tr style=\"text-align: right;\">\n      <th></th>\n      <th>编号</th>\n      <th>母亲年龄</th>\n      <th>婚姻状况</th>\n      <th>教育程度</th>\n      <th>妊娠时间（周数）</th>\n      <th>分娩方式</th>\n      <th>CBTS</th>\n      <th>EPDS</th>\n      <th>HADS</th>\n      <th>婴儿行为特征</th>\n      <th>婴儿性别</th>\n      <th>婴儿年龄（月）</th>\n      <th>整晚睡眠时间（时：分：秒）</th>\n      <th>睡醒次数</th>\n      <th>入睡方式</th>\n    </tr>\n  </thead>\n  <tbody>\n    <tr>\n      <th>0</th>\n      <td>1</td>\n      <td>34</td>\n      <td>2</td>\n      <td>5</td>\n      <td>37.0</td>\n      <td>1</td>\n      <td>3</td>\n      <td>13</td>\n      <td>9</td>\n      <td>0</td>\n      <td>1</td>\n      <td>1</td>\n      <td>10.0</td>\n      <td>3</td>\n      <td>2</td>\n    </tr>\n    <tr>\n      <th>1</th>\n      <td>2</td>\n      <td>33</td>\n      <td>2</td>\n      <td>5</td>\n      <td>42.0</td>\n      <td>1</td>\n      <td>0</td>\n      <td>0</td>\n      <td>3</td>\n      <td>1</td>\n      <td>2</td>\n      <td>3</td>\n      <td>11.0</td>\n      <td>0</td>\n      <td>4</td>\n    </tr>\n    <tr>\n      <th>2</th>\n      <td>3</td>\n      <td>37</td>\n      <td>2</td>\n      <td>5</td>\n      <td>41.0</td>\n      <td>1</td>\n      <td>4</td>\n      <td>8</td>\n      <td>9</td>\n      <td>1</td>\n      <td>1</td>\n      <td>1</td>\n      <td>12.0</td>\n      <td>1</td>\n      <td>2</td>\n    </tr>\n    <tr>\n      <th>3</th>\n      <td>4</td>\n      <td>31</td>\n      <td>2</td>\n      <td>5</td>\n      <td>37.5</td>\n      <td>1</td>\n      <td>6</td>\n      <td>16</td>\n      <td>13</td>\n      <td>1</td>\n      <td>2</td>\n      <td>3</td>\n      <td>11.0</td>\n      <td>2</td>\n      <td>1</td>\n    </tr>\n    <tr>\n      <th>4</th>\n      <td>5</td>\n      <td>36</td>\n      <td>1</td>\n      <td>5</td>\n      <td>40.0</td>\n      <td>1</td>\n      <td>1</td>\n      <td>3</td>\n      <td>3</td>\n      <td>0</td>\n      <td>2</td>\n      <td>3</td>\n      <td>10.5</td>\n      <td>1</td>\n      <td>4</td>\n    </tr>\n    <tr>\n      <th>...</th>\n      <td>...</td>\n      <td>...</td>\n      <td>...</td>\n      <td>...</td>\n      <td>...</td>\n      <td>...</td>\n      <td>...</td>\n      <td>...</td>\n      <td>...</td>\n      <td>...</td>\n      <td>...</td>\n      <td>...</td>\n      <td>...</td>\n      <td>...</td>\n      <td>...</td>\n    </tr>\n    <tr>\n      <th>384</th>\n      <td>386</td>\n      <td>27</td>\n      <td>2</td>\n      <td>5</td>\n      <td>42.0</td>\n      <td>1</td>\n      <td>12</td>\n      <td>20</td>\n      <td>14</td>\n      <td>0</td>\n      <td>1</td>\n      <td>1</td>\n      <td>9.0</td>\n      <td>1</td>\n      <td>2</td>\n    </tr>\n    <tr>\n      <th>385</th>\n      <td>387</td>\n      <td>31</td>\n      <td>2</td>\n      <td>3</td>\n      <td>39.0</td>\n      <td>1</td>\n      <td>4</td>\n      <td>7</td>\n      <td>12</td>\n      <td>0</td>\n      <td>1</td>\n      <td>2</td>\n      <td>11.0</td>\n      <td>2</td>\n      <td>4</td>\n    </tr>\n    <tr>\n      <th>386</th>\n      <td>388</td>\n      <td>31</td>\n      <td>2</td>\n      <td>5</td>\n      <td>41.6</td>\n      <td>1</td>\n      <td>0</td>\n      <td>3</td>\n      <td>1</td>\n      <td>1</td>\n      <td>1</td>\n      <td>1</td>\n      <td>10.5</td>\n      <td>2</td>\n      <td>1</td>\n    </tr>\n    <tr>\n      <th>387</th>\n      <td>389</td>\n      <td>27</td>\n      <td>2</td>\n      <td>3</td>\n      <td>40.0</td>\n      <td>1</td>\n      <td>1</td>\n      <td>10</td>\n      <td>5</td>\n      <td>1</td>\n      <td>1</td>\n      <td>1</td>\n      <td>6.0</td>\n      <td>2</td>\n      <td>1</td>\n    </tr>\n    <tr>\n      <th>388</th>\n      <td>390</td>\n      <td>32</td>\n      <td>2</td>\n      <td>5</td>\n      <td>37.0</td>\n      <td>1</td>\n      <td>10</td>\n      <td>10</td>\n      <td>6</td>\n      <td>0</td>\n      <td>1</td>\n      <td>1</td>\n      <td>9.0</td>\n      <td>0</td>\n      <td>4</td>\n    </tr>\n  </tbody>\n</table>\n<p>389 rows × 15 columns</p>\n</div>"
     },
     "execution_count": 10,
     "metadata": {},
     "output_type": "execute_result"
    }
   ],
   "source": [
    "df = pd.read_excel(r'../数据/预处理后1-390.xlsx')\n",
    "df"
   ],
   "metadata": {
    "collapsed": false,
    "ExecuteTime": {
     "end_time": "2023-08-05T06:18:51.532244200Z",
     "start_time": "2023-08-05T06:18:51.301690900Z"
    }
   }
  },
  {
   "cell_type": "code",
   "execution_count": 36,
   "outputs": [
    {
     "name": "stdout",
     "output_type": "stream",
     "text": [
      "[[ 1.00000000e+00  3.89636121e-17 -1.15005803e-16  2.12454656e-01\n",
      "  -8.55911789e-17 -2.19912377e-16]\n",
      " [ 3.89636121e-17  1.00000000e+00  5.79939629e-16 -8.48802825e-05\n",
      "   1.55871363e-01 -2.05228109e-17]\n",
      " [-1.15005803e-16  5.79939629e-16  1.00000000e+00 -4.22966992e-09\n",
      "   9.60200501e-06  6.35619923e-02]\n",
      " [ 2.12454656e-01 -8.48802825e-05 -4.22966992e-09  1.00000000e+00\n",
      "  -3.25506788e-16 -4.09720088e-16]\n",
      " [-8.55911789e-17  1.55871363e-01  9.60200501e-06 -3.25506788e-16\n",
      "   1.00000000e+00 -6.27462082e-17]\n",
      " [-2.19912377e-16 -2.05228109e-17  6.35619923e-02 -4.09720088e-16\n",
      "  -6.27462082e-17  1.00000000e+00]]\n"
     ]
    }
   ],
   "source": [
    "def 典型相关分析(X: pd.DataFrame, Y: pd.DataFrame):\n",
    "    # 将数据集转换为 pandas DataFrame\n",
    "    X_df = pd.DataFrame(X)\n",
    "    Y_df = pd.DataFrame(Y)\n",
    "\n",
    "    # 运行典型相关分析\n",
    "    cca = CCA(n_components=3)\n",
    "    cca.fit(X_df, Y_df)\n",
    "    X_c, Y_c = cca.transform(X_df, Y_df)\n",
    "\n",
    "    return cca, X_c, Y_c\n",
    "\n",
    "\n",
    "母亲_身体指标 = df.iloc[:, 1:6]\n",
    "母亲_心理指标 = df.iloc[:, 6:9]\n",
    "cca, X_c, Y_c = 典型相关分析(母亲_身体指标, 母亲_心理指标)\n",
    "\n",
    "cca_corr = np.corrcoef(X_c.T, Y_c.T)\n",
    "print(cca_corr)"
   ],
   "metadata": {
    "collapsed": false,
    "ExecuteTime": {
     "end_time": "2023-08-05T06:43:52.507679300Z",
     "start_time": "2023-08-05T06:43:52.486127700Z"
    }
   }
  }
 ],
 "metadata": {
  "kernelspec": {
   "display_name": "Python 3",
   "language": "python",
   "name": "python3"
  },
  "language_info": {
   "codemirror_mode": {
    "name": "ipython",
    "version": 2
   },
   "file_extension": ".py",
   "mimetype": "text/x-python",
   "name": "python",
   "nbconvert_exporter": "python",
   "pygments_lexer": "ipython2",
   "version": "2.7.6"
  }
 },
 "nbformat": 4,
 "nbformat_minor": 0
}
